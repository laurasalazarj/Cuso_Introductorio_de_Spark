{
  "nbformat": 4,
  "nbformat_minor": 0,
  "metadata": {
    "colab": {
      "provenance": [],
      "include_colab_link": true
    },
    "kernelspec": {
      "name": "python3",
      "display_name": "Python 3"
    }
  },
  "cells": [
    {
      "cell_type": "markdown",
      "metadata": {
        "id": "view-in-github",
        "colab_type": "text"
      },
      "source": [
        "<a href=\"https://colab.research.google.com/github/laurasalazarj/Cuso_Introductorio_de_Spark/blob/master/diplomadoUdeA_sesion1.ipynb\" target=\"_parent\"><img src=\"https://colab.research.google.com/assets/colab-badge.svg\" alt=\"Open In Colab\"/></a>"
      ]
    },
    {
      "cell_type": "markdown",
      "metadata": {
        "id": "gFlUMfVbkj4s"
      },
      "source": [
        "<p><img alt=\"Colaboratory logo\" height=\"140px\" src=\"https://upload.wikimedia.org/wikipedia/commons/archive/f/fb/20161010213812%21Escudo-UdeA.svg\" align=\"left\" hspace=\"10px\" vspace=\"0px\"></p>\n",
        "\n",
        "# **Diplomado de Análisis de datos y Machine Learning en Python**\n",
        "\n",
        "\n",
        "El presente diplomado hace parte del centro de Big Data de la facultad de ciencias exactas y naturales (FCEN) de la Universidad de Antioquia.\n",
        "\n",
        "\n",
        "\n",
        "\n",
        "\n"
      ]
    },
    {
      "cell_type": "markdown",
      "source": [
        "# rodnv2t"
      ],
      "metadata": {
        "id": "OYVVTbsdfyXj"
      }
    },
    {
      "cell_type": "markdown",
      "metadata": {
        "id": "mcfbA7nqe8pZ"
      },
      "source": [
        "# **Contenido**\n",
        "\n",
        "## **Nivel I**\n",
        "\n",
        "* **Fundamentos de Python** (3 clases)\n",
        "  * Sintáxis y semántica\n",
        "  * Variables y operadores\n",
        "  * Estructuras de control de flujo\n",
        "  * Ciclos e iteraciones\n",
        "  * Estructuras de datos: Listas y diccionarios. Indexación.\n",
        "  * Funciones\n",
        "* **Análisis de datos** (8 clases)\n",
        "  * Numpy: Vectorización.\n",
        "  * Matplotlib: Elementos de graficación.\n",
        "  * Pandas:\n",
        "    * Manejo de estructuras de datos (Series y DataFrames)\n",
        "    * Estadística descriptiva univariada y multivariada.\n",
        "    * Seaborn: Graficación. \n",
        "    * Agregaciones y agrupamiento.\n",
        "\n",
        "\n",
        "## **Nivel II**\n",
        "\n",
        "* **Machine Learning** \n",
        "  * Preprocesamiento de datos\n",
        "  * Aprendizaje supervisado: \n",
        "    * Regresión: Lineal, Ridge y Lasso.\n",
        "    * Clasificación: Regresión logística, árboles de decisiones y métodos de ensamble.\n",
        "  * Métricas y evaluación de modelos.\n",
        "  * Ajuste de hiperparámetros.\n",
        "  * Aprendizaje no supervisado: \n",
        "    * Reducción de dimensionalidad.\n",
        "    * Agrupamiento.\n",
        "  \n",
        "\n"
      ]
    },
    {
      "cell_type": "markdown",
      "metadata": {
        "id": "2bIdMILshAap"
      },
      "source": [
        "## **Sesión 1**\n",
        "\n",
        "- <a href=\"#py\"> Python</a><br>\n",
        "  - <a href=\"#sin\"> Sintáxis</a><br>\n",
        "  - <a href=\"#sem\"> Semántica: Variables</a><br>\n",
        "  - <a href=\"#opa\"> Operadores aritméticos</a><br>\n",
        "  - <a href=\"#io\"> Entrada y salida</a><br> \n",
        "  - <a href=\"#lis\"> Listas</a><br>\n",
        "    - <a href=\"#ind\"> Indexación</a><br> "
      ]
    },
    {
      "cell_type": "markdown",
      "metadata": {
        "id": "DlqAT_8ZEYIX"
      },
      "source": [
        "<p><a name=\"py\"></a></p>\n",
        "\n",
        "# **Python**\n",
        "\n",
        "Python es un lenguaje de programación de alto nivel (sintaxis simple), interpretado, interactivo y orientado a objetos:\n",
        "\n",
        "* **Interpretado**: Python es procesado al momento de la ejecución por el interpretador. No se necesita de un proceso previo de compilación para la posterior ejecución del programa.\n",
        "\n",
        "* **Interactivo**: Podemos interactuar con el intérprete directamente para escribir los programas.\n",
        "\n",
        "* **Orientado a objetos**: Python es un lenguaje orientado a objetos, una técnica de programación que encapsula el código dentro de objetos.\n",
        "\n",
        "Existen diferentes maneras de ejecutar código de Python. Nosotros usaremos un enfoque interactivo utilizando \"notebooks\". una excelente alternativa es **Google Colab**, el cual es un servicio en la nube, que nos provee de un notebook al que podemos acceder con un navegador web sin importar el sistema operativo\n",
        "\n",
        "Tutoriales de Python: \n",
        "* (español) https://interactivechaos.com/es/course/tutorial-de-python\n",
        "* (inglés) https://www.w3schools.com/python/python_lists_exercises.asp\n",
        "\n",
        "\n",
        "\n",
        "\n"
      ]
    },
    {
      "cell_type": "code",
      "source": [
        "!python -V"
      ],
      "metadata": {
        "id": "UfitZXLtiHLF"
      },
      "execution_count": null,
      "outputs": []
    },
    {
      "cell_type": "markdown",
      "metadata": {
        "id": "WCPCTc_kEaty"
      },
      "source": [
        "<p><a name=\"sin\"></a></p>\n",
        "\n",
        "## **Sintáxis de Python**\n",
        "\n",
        " Comencemos discutiendo las características principales de la sintaxis de Python.\n",
        "\n",
        "La sintaxis se refiere a la estructura del lenguaje (es decir, lo que constituye un programa formado correctamente). Por el momento, no nos centraremos en la semántica, el significado de las palabras y los símbolos dentro de la sintaxis, sino que volveremos a esto más adelante"
      ]
    },
    {
      "cell_type": "code",
      "metadata": {
        "id": "1xJiI-8nEcJR"
      },
      "source": [
        "# programa ejemplo de la sintaxis de Python\n",
        "\n",
        "# definiendo el punto medio\n",
        "midpoint = 5\n",
        "\n",
        "# creando dos listas vacias\n",
        "lower_list = []\n",
        "upper_list = []\n",
        "\n",
        "# separar los numeros hacia arriba y abajo del punto medio\n",
        "for i in range(10):\n",
        "  if i < midpoint:\n",
        "    lower_list.append(i)\n",
        "  else:\n",
        "    upper_list.append(i)\n",
        "\n",
        "print(f\"lower: {lower_list}\")\n",
        "print(f\"upper: {upper_list}\")"
      ],
      "execution_count": null,
      "outputs": []
    },
    {
      "cell_type": "markdown",
      "source": [
        "**Los comentarios en Python se marcan con #**"
      ],
      "metadata": {
        "id": "lZ9O-Xw3u2Kz"
      }
    },
    {
      "cell_type": "code",
      "source": [],
      "metadata": {
        "id": "Nr5O4iySuu7g"
      },
      "execution_count": null,
      "outputs": []
    },
    {
      "cell_type": "markdown",
      "source": [
        "**El final de línea termina una sentencia**"
      ],
      "metadata": {
        "id": "xERoi15Vu8r7"
      }
    },
    {
      "cell_type": "code",
      "source": [
        "# salto de linea"
      ],
      "metadata": {
        "id": "kztbBpd8u_gt"
      },
      "execution_count": null,
      "outputs": []
    },
    {
      "cell_type": "code",
      "source": [
        "# uso de parentesis "
      ],
      "metadata": {
        "id": "EZUY0pw9RHdq"
      },
      "execution_count": null,
      "outputs": []
    },
    {
      "cell_type": "code",
      "source": [
        "# uso del punto y coma"
      ],
      "metadata": {
        "id": "Frjfswf5RgE7"
      },
      "execution_count": null,
      "outputs": []
    },
    {
      "cell_type": "markdown",
      "metadata": {
        "id": "kIg-KYdEFBu6"
      },
      "source": [
        "**El espacio en blanco dentro de las líneas no importa**"
      ]
    },
    {
      "cell_type": "code",
      "source": [],
      "metadata": {
        "id": "2rzgTWkavUBJ"
      },
      "execution_count": null,
      "outputs": []
    },
    {
      "cell_type": "markdown",
      "source": [
        "**Indentación: ¡El espacio en blanco es importante!**"
      ],
      "metadata": {
        "id": "ZT4HoFc5vSyr"
      }
    },
    {
      "cell_type": "code",
      "metadata": {
        "id": "x5JzZaP4FBMG"
      },
      "source": [],
      "execution_count": null,
      "outputs": []
    },
    {
      "cell_type": "markdown",
      "metadata": {
        "id": "7bH60FpkFGzZ"
      },
      "source": [
        "**Los paréntesis son para agrupar o llamar una función**\n"
      ]
    },
    {
      "cell_type": "code",
      "metadata": {
        "id": "HGsAT-TyFIUt"
      },
      "source": [],
      "execution_count": null,
      "outputs": []
    },
    {
      "cell_type": "markdown",
      "source": [
        "<p><a name=\"sem\"></a></p>\n",
        "\n",
        "# **Semántica de Python**\n",
        "\n",
        "En esta sección comenzaremos a cubrir la semántica básica de Python. A diferencia de la sintaxis cubierta en la sección anterior, la semántica de un lenguaje implica el significado de las declaraciones. Al igual que con nuestra discusión sobre la sintaxis, aquí veremos algunas de las construcciones semánticas esenciales en Python para dar un mejor marco de referencia para comprender el código en las siguientes secciones.\n",
        "\n",
        "## **Variables**\n",
        "\n",
        "En Python, las variables fundamentales son \n",
        "\n",
        "\n"
      ],
      "metadata": {
        "id": "TLtk_s7KuYvY"
      }
    },
    {
      "cell_type": "code",
      "source": [
        "# Tipo    # ejemplo                     # Descripción\n",
        "int       x = 1                         # integer: números enteros \n",
        "float     x = 3.1415                    # floating point number: números de punto flotante \n",
        "complex   x = 1 + 2j                    # comples: números complejos\n",
        "bool      x = True                      # boolean: dos posibles valores: verdadero o falso (True o False)\n",
        "str       x = \"string\" / \"\"\"string\"\"\"   # string: caracteres o texto\n",
        "None      x = None                      # Objeto especial que indica valores nulos"
      ],
      "metadata": {
        "id": "F_h-n8--ufa2"
      },
      "execution_count": null,
      "outputs": []
    },
    {
      "cell_type": "markdown",
      "source": [
        "Adicionalmente tenemos variables compuestas, las cuales se construyen a partir de estas variables fundamentales\n",
        "\n"
      ],
      "metadata": {
        "id": "1oBcy5SgufNx"
      }
    },
    {
      "cell_type": "code",
      "source": [
        "# Tipo    # ejemplo                       # Descripción\n",
        "list      x = [1, \"aeiou\", True, 2.14]    # lista\n",
        "tuple     x = (1, \"aeiou\", True, 2.14)    # tupla\n",
        "dict      x = {\"key\": \"value\"}            # diccionario\n",
        "set       x = {1, \"aeiou\", 3}             # conjunto  "
      ],
      "metadata": {
        "id": "By1EJxwnuisu"
      },
      "execution_count": null,
      "outputs": []
    },
    {
      "cell_type": "markdown",
      "source": [
        "**Seleccionando nombres de variables \"correctos\"**\n",
        "\n",
        "Los nombres de las variables en Python pueden contener caracteres alfanuméricos *a-z*, *A-Z*, *0-9* y algunos caracteres especiales como _. Los nombres de las variables deben comenzar con una letra. Por convención, los nombres de las variables comienzan con letras minúsculas. Adicionalmente, existe un número de palabras claves que no pueden ser usadas como nombres de variables. Estas palabras claves son:\n",
        "\n",
        "> `and, as, assert, break, class, continue, def, del, elif, else, except, exec, finally, for, from, global, if, import, in, is, lambda, not, or, pass, print, raise, return, try, while, with, yield`\n",
        "\n",
        "El nombre de una variable debe ser claro y conciso, y no debe contener caracteres especiales. \n",
        "\n",
        "Recomendación #1: *pothole_case_naming* \n",
        "\n",
        "En este caso las palabras se escriben en letra minúscula y se separan por un guión bajo _\n",
        "\n"
      ],
      "metadata": {
        "id": "_0vR6oQ8ZUrW"
      }
    },
    {
      "cell_type": "code",
      "source": [],
      "metadata": {
        "id": "El_NL5idafXJ"
      },
      "execution_count": null,
      "outputs": []
    },
    {
      "cell_type": "markdown",
      "source": [
        "Recomendación #2: *camelCase naming*\n",
        "\n",
        "En este caso la primera letra de cada palabra se escribe en mayúscula"
      ],
      "metadata": {
        "id": "kMkER3xTb0pP"
      }
    },
    {
      "cell_type": "code",
      "source": [],
      "metadata": {
        "id": "16v66U1wcPFN"
      },
      "execution_count": null,
      "outputs": []
    },
    {
      "cell_type": "markdown",
      "source": [
        "**Convirtiendo datos de un tipo a otro**\n",
        "\n",
        "Podemos acceder al tipo de variable utilizando la función nativa de Python `type`:"
      ],
      "metadata": {
        "id": "_VOJhbP1ekmd"
      }
    },
    {
      "cell_type": "code",
      "source": [
        "# variable de tipo entero\n",
        "\n",
        "# tipo de dato"
      ],
      "metadata": {
        "id": "D0u0XpKCulL2"
      },
      "execution_count": null,
      "outputs": []
    },
    {
      "cell_type": "markdown",
      "source": [
        "Podemos utilizar las funciones nativas de Python que aparecen en la columna \"Tipo\" para realizar conversiones entre los diferentes tipos de variable:"
      ],
      "metadata": {
        "id": "nIAQAaEHumme"
      }
    },
    {
      "cell_type": "code",
      "source": [],
      "metadata": {
        "id": "RnFy2fprezaE"
      },
      "execution_count": null,
      "outputs": []
    },
    {
      "cell_type": "markdown",
      "source": [
        "**Ejercicio 1**: Convierta los siguientes valores a una variable de tipo `bool`: 0, 1, 2.5, -2.5, \"hola\", \"\", None.\n",
        "\n"
      ],
      "metadata": {
        "id": "un82zNbU3nxj"
      }
    },
    {
      "cell_type": "code",
      "source": [],
      "metadata": {
        "id": "D5wGz7a83odT"
      },
      "execution_count": null,
      "outputs": []
    },
    {
      "cell_type": "markdown",
      "metadata": {
        "id": "bGeIqs4pHAAq"
      },
      "source": [
        "<p><a name=\"opa\"></a></p>\n",
        "\n",
        "# **Operadores aritméticos**\n",
        "\n",
        "\n",
        "Python implementa siete operadores aritméticos binarios básicos, dos de los cuales (+ y -) pueden funcionar como operadores unarios\n",
        "\n"
      ]
    },
    {
      "cell_type": "code",
      "metadata": {
        "id": "pVJrorxYHAa4"
      },
      "source": [
        "a + b   # suma\n",
        "a - b   # resta\n",
        "a * b   # multiplicacion\n",
        "a / b   # division\n",
        "a // b  # division entera\n",
        "a % b   # modulo\n",
        "a ** b  # exponenciacion"
      ],
      "execution_count": null,
      "outputs": []
    },
    {
      "cell_type": "markdown",
      "metadata": {
        "id": "VkYHEsHVHC1J"
      },
      "source": [
        "Estos operadores se pueden usar y combinar de manera intuitiva. Los operadores tienen cierta jerarquia que define el orden en el que se realizan las operaciones. Sin embargo, se recomienda utilizar paréntesis para definir explcítamente el orden en que se realizan las operaciones"
      ]
    },
    {
      "cell_type": "code",
      "source": [],
      "metadata": {
        "id": "jV71YOxlcEU2"
      },
      "execution_count": null,
      "outputs": []
    },
    {
      "cell_type": "markdown",
      "source": [
        "**Ejercicio 2:** Escriba un programa que realice la siguiente operación aritmética \n",
        "\n",
        "$$\n",
        "\\left( \\frac{3+2}{9\\times7} \\right)^5 \n",
        "$$"
      ],
      "metadata": {
        "id": "At48ICeK7CRf"
      }
    },
    {
      "cell_type": "code",
      "source": [],
      "metadata": {
        "id": "FIU_Ud3p7C-X"
      },
      "execution_count": null,
      "outputs": []
    },
    {
      "cell_type": "markdown",
      "metadata": {
        "id": "jXWggk3j64j-"
      },
      "source": [
        "<p><a name=\"io\"></a></p>\n",
        "\n",
        "# **Entrada y salida**\n",
        "\n",
        "Para tomar datos por parte de un usuario externo hacemos uso de la función propia de Python `input`, que opcionalmente toma un *string* como argumento"
      ]
    },
    {
      "cell_type": "code",
      "source": [],
      "metadata": {
        "id": "BloQB5NSjDgM"
      },
      "execution_count": null,
      "outputs": []
    },
    {
      "cell_type": "markdown",
      "metadata": {
        "id": "_BzMcnfr7A_l"
      },
      "source": [
        "Para mostrar algo en pantalla podemos utilizar la función propia de Python `print`, que toma como argumento la(s) variable(s) que queramos mostrar. Podemos separar cada variable a imprimir en pantalla con una coma"
      ]
    },
    {
      "cell_type": "code",
      "metadata": {
        "id": "TdX6RWQd7CX5"
      },
      "source": [],
      "execution_count": null,
      "outputs": []
    },
    {
      "cell_type": "markdown",
      "source": [
        "**Ejercicio 3:** Escriba un programa que pida el ancho y longitud de una habitación. Una vez leídos los valores, el programa debe calcular y mostrar el área de la habitación. La longitud y el ancho se introducirán como números de punto flotante. Incluya las unidades (m) en su mensaje de aviso (tanto de entrada como de salida)"
      ],
      "metadata": {
        "id": "eUPGeJecF-Xw"
      }
    },
    {
      "cell_type": "code",
      "source": [],
      "metadata": {
        "id": "PCvW2NZ06-5I"
      },
      "execution_count": null,
      "outputs": []
    },
    {
      "cell_type": "markdown",
      "metadata": {
        "id": "ppAdUqmr7pkZ"
      },
      "source": [
        "**Ejercicio 4:** Cree un programa que le pida al usuario que ingrese su nombre, edad y año actual. Imprima un mensaje en pantalla en el que informe el año en que el usuario cumplirá 100 años\n",
        "\n",
        "ejemplo: `Carlos tiene 99 años y cumplirá 100 años en el año 2024`"
      ]
    },
    {
      "cell_type": "code",
      "metadata": {
        "id": "1qnIG-rMMzO_"
      },
      "source": [],
      "execution_count": null,
      "outputs": []
    },
    {
      "cell_type": "markdown",
      "metadata": {
        "id": "Uu2o8yq6KmFe"
      },
      "source": [
        "<p><a name=\"lis\"></a></p>\n",
        "\n",
        "# **Estructuras de datos**\n",
        "\n",
        "\n",
        "Hemos visto los tipos de variables simples de Python: `int`, `float` , `bool`, `str` y `None`. Adicionalmente, Python tiene varios tipos compuestos, que actúan como contenedores para otros tipos. Estos tipos compuestos son: listas (`list`), tuplas (`tuple`), diccionarios (`dict`) y conjuntos (`set`). \n",
        "\n",
        "# **Listas**\n",
        "\n",
        "Las listas son un tipo básico de colección de datos *ordenados* en Python. Cuando decimos que son ordenados queremos decir que para este objeto se tiene una noción de posición para sus elementos, que ya veremos en la sección de *indexación*. \n",
        "\n",
        "Las listas se pueden definir con valores separados por comas entre corchetes\n"
      ]
    },
    {
      "cell_type": "code",
      "source": [],
      "metadata": {
        "id": "RtV7hIIKbRh6"
      },
      "execution_count": null,
      "outputs": []
    },
    {
      "cell_type": "markdown",
      "source": [
        "<p><a name=\"ind\"></a></p>\n",
        "\n",
        "### **Indexing & slicing**\n",
        "\n",
        "Python nos proporciona acceso a los elementos de la lista a través de la indexación de elementos individuales y el *slicing* de múltiples elementos. Como veremos, ambos están indicados por una sintaxis de corchetes. \n",
        "\n",
        "El siguiente esquema ilustra el esquema de indexación en Python, donde se utilizan índices positivos y negativos:\n",
        "\n",
        "\n",
        "\n"
      ],
      "metadata": {
        "id": "yuN5lSjuck4d"
      }
    },
    {
      "cell_type": "markdown",
      "source": [
        "![](https://i.imgur.com/qucgYqO.png)"
      ],
      "metadata": {
        "id": "BkdjmUPjq-to"
      }
    },
    {
      "cell_type": "markdown",
      "source": [
        "Note que en Python, el primer elemento de la lista corresponde a al índice `0`"
      ],
      "metadata": {
        "id": "NOrFlhpbNFQW"
      }
    },
    {
      "cell_type": "markdown",
      "source": [
        "### **Indexing:** \n",
        "\n",
        "Obteniendo un único elemento de la lista."
      ],
      "metadata": {
        "id": "DevWki-LuvrQ"
      }
    },
    {
      "cell_type": "code",
      "source": [
        "l = [2, 4, 6, 8]"
      ],
      "metadata": {
        "id": "YbOMb8VycmX8"
      },
      "execution_count": null,
      "outputs": []
    },
    {
      "cell_type": "markdown",
      "source": [
        "Podemos acceder a un elemento de la lista indicando el índice correspondiente a este mediante corchetes:"
      ],
      "metadata": {
        "id": "5OsqQOWidGcO"
      }
    },
    {
      "cell_type": "code",
      "source": [
        "# accediendo al primer elemento de la lista"
      ],
      "metadata": {
        "id": "OClD8rE1crsh"
      },
      "execution_count": null,
      "outputs": []
    },
    {
      "cell_type": "code",
      "source": [
        "# accediendo al tercer elemento de la lista"
      ],
      "metadata": {
        "id": "q8rCx4KwUFCI"
      },
      "execution_count": null,
      "outputs": []
    },
    {
      "cell_type": "markdown",
      "source": [
        "Alternativamente podemos acceder a los elementos de la lista con números negativos, comenzando desde `-1`:"
      ],
      "metadata": {
        "id": "NDWqLjuCdNE-"
      }
    },
    {
      "cell_type": "code",
      "source": [
        "# accediendo al ultimo elemento de la lista"
      ],
      "metadata": {
        "id": "9dw1zmg3dP3s"
      },
      "execution_count": null,
      "outputs": []
    },
    {
      "cell_type": "code",
      "source": [
        "# accediendo al penultimo elemento de la lista"
      ],
      "metadata": {
        "id": "44baq8pyUQ7d"
      },
      "execution_count": null,
      "outputs": []
    },
    {
      "cell_type": "markdown",
      "source": [
        "### **Slicing**: \n",
        "Si la indexación es un medio para obtener un único valor de la lista, el *slicing* es un medio para acceder a múltiples valores de las listas. La sintáxis para el *slicing* es de la forma\n",
        "\n",
        "```\n",
        "lista[inicio:final:paso]\n",
        "```\n",
        "\n",
        "en donde se extraen los elementos de la lista entre la posiciones `inicio` (se incluye) y `final` (no se incluye), con cierto `paso`:\n"
      ],
      "metadata": {
        "id": "Eoxcw5UNdfQx"
      }
    },
    {
      "cell_type": "code",
      "source": [
        "# seleccionar los tres primeros elementos de la lista "
      ],
      "metadata": {
        "id": "HHbcSvladgw7"
      },
      "execution_count": null,
      "outputs": []
    },
    {
      "cell_type": "code",
      "source": [
        "# seleccionar desde el segundo elemento hasta el final "
      ],
      "metadata": {
        "id": "MCt3I1P84LDb"
      },
      "execution_count": null,
      "outputs": []
    },
    {
      "cell_type": "markdown",
      "source": [
        "También es posible especificar un tercer número entero que represente el tamaño del paso:"
      ],
      "metadata": {
        "id": "p492vX2oqiVV"
      }
    },
    {
      "cell_type": "code",
      "source": [
        "#seleccionar todos los elementos de la lista con paso 2"
      ],
      "metadata": {
        "id": "rjWVkNAUqlZv"
      },
      "execution_count": null,
      "outputs": []
    },
    {
      "cell_type": "markdown",
      "source": [
        "Ahora, si pasamos el paso como un número negativo, el inicio y el final se intercambian:\n"
      ],
      "metadata": {
        "id": "tYYJ_pgdd5t8"
      }
    },
    {
      "cell_type": "code",
      "source": [
        "#seleccionar desde el elemento 6 hasta el 4 en sentido contrario"
      ],
      "metadata": {
        "id": "MYgyqCLAvb57"
      },
      "execution_count": null,
      "outputs": []
    },
    {
      "cell_type": "markdown",
      "source": [
        "Podemos utilizar tanto la indexación como la segmentación para modificar elementos de una lista:\n"
      ],
      "metadata": {
        "id": "OJ1SkLQKd-CL"
      }
    },
    {
      "cell_type": "code",
      "source": [
        "# modificando el primer elemento de la lista"
      ],
      "metadata": {
        "id": "vwnOn4Gdd_kx"
      },
      "execution_count": null,
      "outputs": []
    },
    {
      "cell_type": "code",
      "source": [
        "# modificando multiples elementos de la lista"
      ],
      "metadata": {
        "id": "9ojO-VjpeA7q"
      },
      "execution_count": null,
      "outputs": []
    },
    {
      "cell_type": "markdown",
      "source": [
        "# **Nota:** *Las variables de tipo `str` tienen la misma sintáxis de indexación*"
      ],
      "metadata": {
        "id": "PW8gQSSR17Ze"
      }
    },
    {
      "cell_type": "code",
      "source": [],
      "metadata": {
        "id": "vrMN-4cs9DZc"
      },
      "execution_count": null,
      "outputs": []
    },
    {
      "cell_type": "markdown",
      "source": [
        "**Ejercicio:** Defina una lista `info` con la información del nombre, apellido, edad y ciudad de residencia de una persona (no importa el orden). Luego, seleccione el nombre y la ciudad de `info` para mostrar en pantalla el mensaje `<nombre> vive en <ciudad>`.\n"
      ],
      "metadata": {
        "id": "rXIyF8iF83yT"
      }
    },
    {
      "cell_type": "code",
      "source": [],
      "metadata": {
        "id": "wydHwZ2X875k"
      },
      "execution_count": null,
      "outputs": []
    },
    {
      "cell_type": "markdown",
      "source": [
        "**Ejercicio**: Dada la lista\n",
        "\n",
        "```\n",
        "l = [1, 2, 3, 4, 5, 6]\n",
        "```\n",
        "* Defina dos listas a partir de esta:\n",
        "  * `l1`: Con los elementos en las posiciones pares (incluyendo el cero).\n",
        "  * `l2`: Con los elementos en las posiciones impares.\n",
        "\n",
        "* Asigne la resta del primer elemento de `l1` y el último elemento de `l2` en la última posición de `l`"
      ],
      "metadata": {
        "id": "A9lS1Y1getCa"
      }
    },
    {
      "cell_type": "code",
      "source": [],
      "metadata": {
        "id": "Dx7XCuvUg4b9"
      },
      "execution_count": null,
      "outputs": []
    },
    {
      "cell_type": "markdown",
      "source": [
        "**Ejercicio:** Considere la lista \n",
        "```\n",
        "[\"marta\", \"andres\", \"camila\", \"santiago\"]\n",
        "```\n",
        "Seleccione cualquier nombre de la lista y: \n",
        "* Muestre la primera y última letra del nombre. Ej: `Las primera y ultima letras del nombre marta son m y a`\n",
        "* Muestre el nombre escrito al revés. Ej: `marta al reves es atram`."
      ],
      "metadata": {
        "id": "PnThswO488pb"
      }
    },
    {
      "cell_type": "code",
      "source": [],
      "metadata": {
        "id": "NtK1ljq7g5lf"
      },
      "execution_count": null,
      "outputs": []
    },
    {
      "cell_type": "markdown",
      "source": [
        "## **Ejercicios adicionales**"
      ],
      "metadata": {
        "id": "UxVWm3spYOkt"
      }
    },
    {
      "cell_type": "markdown",
      "source": [
        "**Ejercicio:** Escribir un programa que lea un entero positivo, $n$, introducido por el usuario y después muestre en pantalla la suma de todos los enteros desde 1 hasta $n$. La suma de los primeros enteros positivos puede ser calculada de la siguiente forma:\n",
        "\n",
        "$$\n",
        "\\text{suma} = \\frac{n(n+1)}{2}\n",
        "$$"
      ],
      "metadata": {
        "id": "Ob07LTzUYZn1"
      }
    },
    {
      "cell_type": "code",
      "source": [],
      "metadata": {
        "id": "GFKmT3YtYkrP"
      },
      "execution_count": null,
      "outputs": []
    },
    {
      "cell_type": "markdown",
      "source": [
        "**Ejercicio:** Escribir un programa que pida al usuario su peso (en kg) y estatura (en metros), calcule el índice de masa corporal y lo almacene en una variable, y muestre por pantalla la frase `Tu índice de masa corporal es <imc>` donde `<imc>` es el índice de masa corporal"
      ],
      "metadata": {
        "id": "BWF5-N9nYlGW"
      }
    },
    {
      "cell_type": "code",
      "source": [],
      "metadata": {
        "id": "_nNDxNbGKwKI"
      },
      "execution_count": null,
      "outputs": []
    },
    {
      "cell_type": "markdown",
      "source": [
        "**Ejercicio:** Escribir un programa que pida al usuario dos números enteros y muestre por pantalla la `<n> entre <m> da un cociente <c> y un resto <r>` donde `<n>` y `<m>` son los números introducidos por el usuario, y `<c>` y `<r>` son el cociente y el resto de la división entera respectivamente."
      ],
      "metadata": {
        "id": "lW44niTlYx71"
      }
    },
    {
      "cell_type": "code",
      "source": [],
      "metadata": {
        "id": "KyytC4dFWqoT"
      },
      "execution_count": null,
      "outputs": []
    },
    {
      "cell_type": "markdown",
      "source": [
        "**Ejercicio:** En el Metro de Medellín hay una máquina de reciclaje que retorna un valor de \\$10.534 pesos por cada botella de plastico, y un valor de \\$14.287 pesos por cada botella de vidrio. Escriba un programa que solicite el número de botellas de plástico y vidrio, y muestre en pantalla el valor a pagar al usuario. El formato del mensaje de salida debe incluir el signo $ y tener dos cifras significativas."
      ],
      "metadata": {
        "id": "LdRCh5KmKEsW"
      }
    },
    {
      "cell_type": "code",
      "source": [],
      "metadata": {
        "id": "0-wJalOdZC5G"
      },
      "execution_count": null,
      "outputs": []
    },
    {
      "cell_type": "markdown",
      "source": [
        "**Ejercicio:** Escribir un programa que pregunte al usuario una cantidad a invertir, el interés anual y el número de años, y muestre por pantalla el capital obtenido en la inversión."
      ],
      "metadata": {
        "id": "J5Kw9FQsZzTm"
      }
    },
    {
      "cell_type": "code",
      "source": [],
      "metadata": {
        "id": "dTBBdzfWZ3vr"
      },
      "execution_count": null,
      "outputs": []
    },
    {
      "cell_type": "markdown",
      "source": [
        "**Ejercicio:** Una panadería vende barras de pan a 3.49€ cada una. El pan que no es el día tiene un descuento del 60%. Escribir un programa que comience leyendo el número de barras vendidas que no son del día. Después el programa debe mostrar el precio habitual de una barra de pan, el descuento que se le hace por no ser fresca y el coste final total."
      ],
      "metadata": {
        "id": "c_cfqi0DZa7E"
      }
    },
    {
      "cell_type": "code",
      "source": [],
      "metadata": {
        "id": "_Ljsby8HZT31"
      },
      "execution_count": null,
      "outputs": []
    },
    {
      "cell_type": "markdown",
      "source": [
        "**Ejercicio:** Imagina que acabas de abrir una nueva cuenta de ahorros que te ofrece el 4% de interés al año. Estos ahorros debido a intereses, que no se cobran hasta finales de año, se te añaden al balance final de tu cuenta de ahorros. Escribir un programa que comience leyendo la cantidad de dinero depositada en la cuenta de ahorros, introducida por el usuario. Después el programa debe calcular y mostrar por pantalla la cantidad de ahorros tras el primer, segundo y tercer años"
      ],
      "metadata": {
        "id": "atBCBYAYZUZV"
      }
    },
    {
      "cell_type": "code",
      "source": [],
      "metadata": {
        "id": "EbsEGMV9Zapr"
      },
      "execution_count": null,
      "outputs": []
    }
  ]
}